{
  "cells": [
    {
      "attachments": {},
      "cell_type": "markdown",
      "metadata": {
        "id": "ssCOanHc8JH_"
      },
      "source": [
        "# Training in Brax\n",
        "\n",
        "Once an environment is created in brax, we can quickly train it using brax's built-in training algorithms. Let's try it out!"
      ]
    },
    {
      "cell_type": "code",
      "execution_count": 3,
      "metadata": {
        "executionInfo": {
          "elapsed": 22308,
          "status": "ok",
          "timestamp": 1679686324614,
          "user": {
            "displayName": "",
            "userId": ""
          },
          "user_tz": 240
        },
        "id": "kUrAlZTod7t_"
      },
      "outputs": [],
      "source": [
        "#@markdown ## ⚠️ PLEASE NOTE:\n",
        "#@markdown This colab runs best using a GPU runtime.  From the Colab menu, choose Runtime > Change Runtime Type, then select **'GPU'** in the dropdown.\n",
        "\n",
        "import functools\n",
        "import jax\n",
        "import os\n",
        "\n",
        "from datetime import datetime\n",
        "from jax import numpy as jp\n",
        "import matplotlib.pyplot as plt\n",
        "\n",
        "from IPython.display import HTML, clear_output\n",
        "\n",
        "try:\n",
        "  import brax\n",
        "except ImportError:\n",
        "  !pip install git+https://github.com/google/brax.git@main\n",
        "  clear_output()\n",
        "  import brax\n",
        "\n",
        "import flax\n",
        "from brax import envs\n",
        "from brax.io import model\n",
        "from brax.io import json\n",
        "from brax.io import html\n",
        "from brax.training.agents.ppo import train as ppo\n",
        "from brax.training.agents.sac import train as sac\n",
        "\n",
        "if 'COLAB_TPU_ADDR' in os.environ:\n",
        "  from jax.tools import colab_tpu\n",
        "  colab_tpu.setup_tpu()"
      ]
    },
    {
      "attachments": {},
      "cell_type": "markdown",
      "metadata": {
        "id": "eoyyw6pQ3xVJ"
      },
      "source": [
        "First let's pick an environment and a backend to train an agent in. \n",
        "\n",
        "Recall from the [Brax Basics](https://github.com/google/brax/blob/main/notebooks/basics.ipynb) colab, that the backend specifies which physics engine to use, each with different trade-offs between physical realism and training throughput/speed. The engines generally decrease in physical realism but increase in speed in the following order: `generalized`,  `positional`, then `spring`.\n"
      ]
    },
    {
      "cell_type": "code",
      "execution_count": 4,
      "metadata": {
        "colab": {
          "height": 480
        },
        "executionInfo": {
          "elapsed": 6143,
          "status": "ok",
          "timestamp": 1679686333304,
          "user": {
            "displayName": "",
            "userId": ""
          },
          "user_tz": 240
        },
        "id": "4hHuDp53e4VJ",
        "outputId": "90d4c41b-9a25-4ca4-c6be-93172ea9ef57"
      },
      "outputs": [
        {
          "data": {
            "text/html": [
              "<!DOCTYPE html>\n",
              "<html>\n",
              "\n",
              "  <head>\n",
              "    <title>Brax visualizer</title>\n",
              "    <link rel=\"shortcut icon\" type=\"image/x-icon\" href=\"/favicon.ico\">\n",
              "  </head>\n",
              "\n",
              "  <style>\n",
              "    body {\n",
              "      margin: 0;\n",
              "      padding: 0;\n",
              "    }\n",
              "\n",
              "    #brax-viewer {\n",
              "      height: 480px;\n",
              "      margin: 0;\n",
              "      padding: 0;\n",
              "    }\n",
              "  </style>\n",
              "  <script async src=\"https://unpkg.com/es-module-shims@1.6.3/dist/es-module-shims.js\"></script>\n",
              "\n",
              "  <script type=\"importmap\">\n",
              "    {\n",
              "      \"imports\": {\n",
              "        \"three\": \"https://unpkg.com/three@0.150.1/build/three.module.js\",\n",
              "        \"three/addons/\": \"https://unpkg.com/three@0.150.1/examples/jsm/\",\n",
              "        \"lilgui\": \"https://cdn.jsdelivr.net/npm/lil-gui@0.18.0/+esm\",\n",
              "        \"viewer\": \"https://cdn.jsdelivr.net/gh/google/brax@v0.9.1/brax/visualizer/js/viewer.js\"\n",
              "      }\n",
              "    }\n",
              "  </script>\n",
              "\n",
              "  <script type=\"application/javascript\">\n",
              "  var system = {\"dt\": 0.005, \"gravity\": [0.0, 0.0, -9.8100004196167], \"viscosity\": 0.0, \"density\": 0.0, \"link\": {\"transform\": {\"pos\": [[0.0, 0.0, 0.0], [0.20000000298023224, 0.20000000298023224, 0.0], [0.20000000298023224, 0.20000000298023224, 0.0], [-0.20000000298023224, 0.20000000298023224, 0.0], [-0.20000000298023224, 0.20000000298023224, 0.0], [-0.20000000298023224, -0.20000000298023224, 0.0], [-0.20000000298023224, -0.20000000298023224, 0.0], [0.20000000298023224, -0.20000000298023224, 0.0], [0.20000000298023224, -0.20000000298023224, 0.0]], \"rot\": [[1.0, 0.0, 0.0, 0.0], [1.0, 0.0, 0.0, 0.0], [1.0, 0.0, 0.0, 0.0], [1.0, 0.0, 0.0, 0.0], [1.0, 0.0, 0.0, 0.0], [1.0, 0.0, 0.0, 0.0], [1.0, 0.0, 0.0, 0.0], [1.0, 0.0, 0.0, 0.0], [1.0, 0.0, 0.0, 0.0]], \"name\": \"Transform\"}, \"joint\": {\"pos\": [[0.0, 0.0, 0.0], [0.0, 0.0, 0.0], [0.0, 0.0, 0.0], [0.0, 0.0, 0.0], [0.0, 0.0, 0.0], [0.0, 0.0, 0.0], [0.0, 0.0, 0.0], [0.0, 0.0, 0.0], [0.0, 0.0, 0.0]], \"rot\": [[1.0, 0.0, 0.0, 0.0], [1.0, 0.0, 0.0, 0.0], [1.0, 0.0, 0.0, 0.0], [1.0, 0.0, 0.0, 0.0], [1.0, 0.0, 0.0, 0.0], [1.0, 0.0, 0.0, 0.0], [1.0, 0.0, 0.0, 0.0], [1.0, 0.0, 0.0, 0.0], [1.0, 0.0, 0.0, 0.0]], \"name\": \"Transform\"}, \"inertia\": {\"transform\": {\"pos\": [[0.0, 0.0, 0.0], [0.10000000149011612, 0.10000000149011612, 0.0], [0.20000000298023224, 0.20000000298023224, 0.0], [-0.10000000149011612, 0.10000000149011612, 0.0], [-0.20000000298023224, 0.20000000298023224, 0.0], [-0.10000000149011612, -0.10000000149011612, 0.0], [-0.20000000298023224, -0.20000000298023224, 0.0], [0.10000000149011612, -0.10000000149011612, 0.0], [0.20000000298023224, -0.20000000298023224, 0.0]], \"rot\": [[0.5, 0.5, -0.5, 0.5], [0.7071067690849304, 0.5, -0.5, 0.0], [0.6532815098762512, 0.6532815098762512, -0.27059805393218994, -0.27059805393218994], [0.7071067690849304, 0.5, 0.5, -0.0], [0.6532815098762512, 0.6532815098762512, 0.27059805393218994, 0.27059805393218994], [0.7071067690849304, -0.5, 0.5, 0.0], [0.6532815098762512, 0.6532815098762512, -0.27059805393218994, -0.27059805393218994], [0.7071067690849304, -0.5, -0.5, 0.0], [0.6532815098762512, 0.6532815098762512, 0.27059805393218994, 0.27059805393218994]], \"name\": \"Transform\"}, \"i\": [[[0.013585715554654598, 0.0, 0.0], [0.0, 0.011120356619358063, 0.0], [0.0, 0.0, 0.011120356619358063]], [[0.000567966082599014, 0.0, 0.0], [0.0, 0.000567966082599014, 0.0], [0.0, 0.0, 0.00011844190157717094]], [[0.0026747905649244785, 0.0, 0.0], [0.0, 0.0026747905649244785, 0.0], [0.0, 0.0, 0.00020943213894497603]], [[0.000567966082599014, 0.0, 0.0], [0.0, 0.000567966082599014, 0.0], [0.0, 0.0, 0.00011844190157717094]], [[0.0026747905649244785, 0.0, 0.0], [0.0, 0.0026747905649244785, 0.0], [0.0, 0.0, 0.00020943213894497603]], [[0.000567966082599014, 0.0, 0.0], [0.0, 0.000567966082599014, 0.0], [0.0, 0.0, 0.00011844190157717094]], [[0.0026747905649244785, 0.0, 0.0], [0.0, 0.0026747905649244785, 0.0], [0.0, 0.0, 0.00020943213894497603]], [[0.000567966082599014, 0.0, 0.0], [0.0, 0.000567966082599014, 0.0], [0.0, 0.0, 0.00011844190157717094]], [[0.0026747905649244785, 0.0, 0.0], [0.0, 0.0026747905649244785, 0.0], [0.0, 0.0, 0.00020943213894497603]]], \"mass\": [0.48388025164604187, 0.03915775194764137, 0.06759220361709595, 0.03915775194764137, 0.06759220361709595, 0.03915775194764137, 0.06759220361709595, 0.03915775194764137, 0.06759220361709595], \"name\": \"Inertia\"}, \"invweight\": [1.1014374494552612, 1.8087762594223022, 3.9844133853912354, 1.8087762594223022, 3.9844133853912354, 1.8087762594223022, 3.9844133853912354, 1.8087762594223022, 3.9844133853912354], \"constraint_stiffness\": [4000.0, 4000.0, 4000.0, 4000.0, 4000.0, 4000.0, 4000.0, 4000.0, 4000.0], \"constraint_vel_damping\": [20.0, 20.0, 20.0, 20.0, 20.0, 20.0, 20.0, 20.0, 20.0], \"constraint_limit_stiffness\": [1000.0, 1000.0, 1000.0, 1000.0, 1000.0, 1000.0, 1000.0, 1000.0, 1000.0], \"constraint_ang_damping\": [10.0, 10.0, 10.0, 10.0, 10.0, 10.0, 10.0, 10.0, 10.0], \"name\": \"Link\"}, \"dof\": {\"motion\": {\"ang\": [[0.0, 0.0, 0.0], [0.0, 0.0, 0.0], [0.0, 0.0, 0.0], [1.0, 0.0, 0.0], [0.0, 1.0, 0.0], [0.0, 0.0, 1.0], [0.0, 0.0, 1.0], [-0.7071067690849304, 0.7071067690849304, 0.0], [0.0, 0.0, 1.0], [0.7071067690849304, 0.7071067690849304, 0.0], [0.0, 0.0, 1.0], [-0.7071067690849304, 0.7071067690849304, 0.0], [0.0, 0.0, 1.0], [0.7071067690849304, 0.7071067690849304, 0.0]], \"vel\": [[1.0, 0.0, 0.0], [0.0, 1.0, 0.0], [0.0, 0.0, 1.0], [0.0, 0.0, 0.0], [0.0, 0.0, 0.0], [0.0, 0.0, 0.0], [0.0, 0.0, 0.0], [0.0, 0.0, 0.0], [0.0, 0.0, 0.0], [0.0, 0.0, 0.0], [0.0, 0.0, 0.0], [0.0, 0.0, 0.0], [0.0, 0.0, 0.0], [0.0, 0.0, 0.0]], \"name\": \"Motion\"}, \"armature\": [0.0, 0.0, 0.0, 0.0, 0.0, 0.0, 1.0, 1.0, 1.0, 1.0, 1.0, 1.0, 1.0, 1.0], \"stiffness\": [0.0, 0.0, 0.0, 0.0, 0.0, 0.0, 0.0, 0.0, 0.0, 0.0, 0.0, 0.0, 0.0, 0.0], \"damping\": [0.0, 0.0, 0.0, 0.0, 0.0, 0.0, 1.0, 1.0, 1.0, 1.0, 1.0, 1.0, 1.0, 1.0], \"limit\": [[\"-inf\", \"-inf\", \"-inf\", \"-inf\", \"-inf\", \"-inf\", -0.5235987901687622, 0.5235987901687622, -0.5235987901687622, -1.2217304706573486, -0.5235987901687622, -1.2217304706573486, -0.5235987901687622, 0.5235987901687622], [\"inf\", \"inf\", \"inf\", \"inf\", \"inf\", \"inf\", 0.5235987901687622, 1.2217304706573486, 0.5235987901687622, -0.5235987901687622, 0.5235987901687622, -0.5235987901687622, 0.5235987901687622, 1.2217304706573486]], \"invweight\": [1.1014374494552612, 1.1014374494552612, 1.1014374494552612, 6.536040306091309, 6.536040306091309, 6.536040306091309, 0.9826359748840332, 0.9951024055480957, 0.9826359748840332, 0.9951024055480957, 0.9826359748840332, 0.9951024055480957, 0.9826359748840332, 0.9951024055480957], \"solver_params\": [[0.019999999552965164, 1.0, 0.8999999761581421, 0.949999988079071, 0.0010000000474974513, 0.5, 2.0], [0.019999999552965164, 1.0, 0.8999999761581421, 0.949999988079071, 0.0010000000474974513, 0.5, 2.0], [0.019999999552965164, 1.0, 0.8999999761581421, 0.949999988079071, 0.0010000000474974513, 0.5, 2.0], [0.019999999552965164, 1.0, 0.8999999761581421, 0.949999988079071, 0.0010000000474974513, 0.5, 2.0], [0.019999999552965164, 1.0, 0.8999999761581421, 0.949999988079071, 0.0010000000474974513, 0.5, 2.0], [0.019999999552965164, 1.0, 0.8999999761581421, 0.949999988079071, 0.0010000000474974513, 0.5, 2.0], [0.019999999552965164, 1.0, 0.8999999761581421, 0.949999988079071, 0.0010000000474974513, 0.5, 2.0], [0.019999999552965164, 1.0, 0.8999999761581421, 0.949999988079071, 0.0010000000474974513, 0.5, 2.0], [0.019999999552965164, 1.0, 0.8999999761581421, 0.949999988079071, 0.0010000000474974513, 0.5, 2.0], [0.019999999552965164, 1.0, 0.8999999761581421, 0.949999988079071, 0.0010000000474974513, 0.5, 2.0], [0.019999999552965164, 1.0, 0.8999999761581421, 0.949999988079071, 0.0010000000474974513, 0.5, 2.0], [0.019999999552965164, 1.0, 0.8999999761581421, 0.949999988079071, 0.0010000000474974513, 0.5, 2.0], [0.019999999552965164, 1.0, 0.8999999761581421, 0.949999988079071, 0.0010000000474974513, 0.5, 2.0], [0.019999999552965164, 1.0, 0.8999999761581421, 0.949999988079071, 0.0010000000474974513, 0.5, 2.0]], \"name\": \"DoF\"}, \"geoms\": {\"world\": [{\"link_idx\": null, \"transform\": {\"pos\": [0.0, 0.0, 0.0], \"rot\": [1.0, 0.0, 0.0, 0.0], \"name\": \"Transform\"}, \"friction\": 1.0, \"elasticity\": 0.0, \"solver_params\": [0.019999999552965164, 1.0, 0.8999999761581421, 0.949999988079071, 0.0010000000474974513, 0.5, 2.0], \"rgba\": [0.4000000059604645, 0.33000001311302185, 0.25999999046325684, 1.0], \"name\": \"Plane\"}], \"torso\": [{\"link_idx\": 0, \"transform\": {\"pos\": [0.0, 0.0, 0.0], \"rot\": [1.0, 0.0, 0.0, 0.0], \"name\": \"Transform\"}, \"friction\": 1.0, \"elasticity\": 0.0, \"solver_params\": [0.019999999552965164, 1.0, 0.8999999761581421, 0.949999988079071, 0.0010000000474974513, 0.5, 2.0], \"radius\": 0.25, \"rgba\": [0.4000000059604645, 0.33000001311302185, 0.25999999046325684, 1.0], \"name\": \"Sphere\"}, {\"link_idx\": 0, \"transform\": {\"pos\": [0.10000000149011612, 0.10000000149011612, 0.0], \"rot\": [0.7071067690849304, 0.5, -0.5, 0.0], \"name\": \"Transform\"}, \"friction\": 1.0, \"elasticity\": 0.0, \"solver_params\": [0.019999999552965164, 1.0, 0.8999999761581421, 0.949999988079071, 0.0010000000474974513, 0.5, 2.0], \"radius\": 0.07999999821186066, \"length\": 0.2828427255153656, \"rgba\": [0.4000000059604645, 0.33000001311302185, 0.25999999046325684, 1.0], \"name\": \"Capsule\"}, {\"link_idx\": 0, \"transform\": {\"pos\": [-0.10000000149011612, 0.10000000149011612, 0.0], \"rot\": [0.7071067690849304, 0.5, 0.5, -0.0], \"name\": \"Transform\"}, \"friction\": 1.0, \"elasticity\": 0.0, \"solver_params\": [0.019999999552965164, 1.0, 0.8999999761581421, 0.949999988079071, 0.0010000000474974513, 0.5, 2.0], \"radius\": 0.07999999821186066, \"length\": 0.2828427255153656, \"rgba\": [0.4000000059604645, 0.33000001311302185, 0.25999999046325684, 1.0], \"name\": \"Capsule\"}, {\"link_idx\": 0, \"transform\": {\"pos\": [-0.10000000149011612, -0.10000000149011612, 0.0], \"rot\": [0.7071067690849304, -0.5, 0.5, 0.0], \"name\": \"Transform\"}, \"friction\": 1.0, \"elasticity\": 0.0, \"solver_params\": [0.019999999552965164, 1.0, 0.8999999761581421, 0.949999988079071, 0.0010000000474974513, 0.5, 2.0], \"radius\": 0.07999999821186066, \"length\": 0.2828427255153656, \"rgba\": [0.4000000059604645, 0.33000001311302185, 0.25999999046325684, 1.0], \"name\": \"Capsule\"}, {\"link_idx\": 0, \"transform\": {\"pos\": [0.10000000149011612, -0.10000000149011612, 0.0], \"rot\": [0.7071067690849304, -0.5, -0.5, 0.0], \"name\": \"Transform\"}, \"friction\": 1.0, \"elasticity\": 0.0, \"solver_params\": [0.019999999552965164, 1.0, 0.8999999761581421, 0.949999988079071, 0.0010000000474974513, 0.5, 2.0], \"radius\": 0.07999999821186066, \"length\": 0.2828427255153656, \"rgba\": [0.4000000059604645, 0.33000001311302185, 0.25999999046325684, 1.0], \"name\": \"Capsule\"}], \"aux_1\": [{\"link_idx\": 1, \"transform\": {\"pos\": [0.10000000149011612, 0.10000000149011612, 0.0], \"rot\": [0.7071067690849304, 0.5, -0.5, 0.0], \"name\": \"Transform\"}, \"friction\": 1.0, \"elasticity\": 0.0, \"solver_params\": [0.019999999552965164, 1.0, 0.8999999761581421, 0.949999988079071, 0.0010000000474974513, 0.5, 2.0], \"radius\": 0.07999999821186066, \"length\": 0.2828427255153656, \"rgba\": [0.4000000059604645, 0.33000001311302185, 0.25999999046325684, 1.0], \"name\": \"Capsule\"}], \"link 2\": [{\"link_idx\": 2, \"transform\": {\"pos\": [0.20000000298023224, 0.20000000298023224, 0.0], \"rot\": [0.7071067690849304, 0.5, -0.5, 0.0], \"name\": \"Transform\"}, \"friction\": 1.0, \"elasticity\": 0.0, \"solver_params\": [0.019999999552965164, 1.0, 0.8999999761581421, 0.949999988079071, 0.0010000000474974513, 0.5, 2.0], \"radius\": 0.07999999821186066, \"length\": 0.5656854510307312, \"rgba\": [0.4000000059604645, 0.33000001311302185, 0.25999999046325684, 1.0], \"name\": \"Capsule\"}, {\"link_idx\": 2, \"transform\": {\"pos\": [0.4000000059604645, 0.4000000059604645, 0.0], \"rot\": [1.0, 0.0, 0.0, 0.0], \"name\": \"Transform\"}, \"friction\": 1.0, \"elasticity\": 0.0, \"solver_params\": [0.019999999552965164, 1.0, 0.8999999761581421, 0.949999988079071, 0.0010000000474974513, 0.5, 2.0], \"radius\": 0.07999999821186066, \"rgba\": [0.4000000059604645, 0.33000001311302185, 0.25999999046325684, 1.0], \"name\": \"Sphere\"}], \"aux_2\": [{\"link_idx\": 3, \"transform\": {\"pos\": [-0.10000000149011612, 0.10000000149011612, 0.0], \"rot\": [0.7071067690849304, 0.5, 0.5, -0.0], \"name\": \"Transform\"}, \"friction\": 1.0, \"elasticity\": 0.0, \"solver_params\": [0.019999999552965164, 1.0, 0.8999999761581421, 0.949999988079071, 0.0010000000474974513, 0.5, 2.0], \"radius\": 0.07999999821186066, \"length\": 0.2828427255153656, \"rgba\": [0.4000000059604645, 0.33000001311302185, 0.25999999046325684, 1.0], \"name\": \"Capsule\"}], \"link 4\": [{\"link_idx\": 4, \"transform\": {\"pos\": [-0.20000000298023224, 0.20000000298023224, 0.0], \"rot\": [0.7071067690849304, 0.5, 0.5, -0.0], \"name\": \"Transform\"}, \"friction\": 1.0, \"elasticity\": 0.0, \"solver_params\": [0.019999999552965164, 1.0, 0.8999999761581421, 0.949999988079071, 0.0010000000474974513, 0.5, 2.0], \"radius\": 0.07999999821186066, \"length\": 0.5656854510307312, \"rgba\": [0.4000000059604645, 0.33000001311302185, 0.25999999046325684, 1.0], \"name\": \"Capsule\"}, {\"link_idx\": 4, \"transform\": {\"pos\": [-0.4000000059604645, 0.4000000059604645, 0.0], \"rot\": [1.0, 0.0, 0.0, 0.0], \"name\": \"Transform\"}, \"friction\": 1.0, \"elasticity\": 0.0, \"solver_params\": [0.019999999552965164, 1.0, 0.8999999761581421, 0.949999988079071, 0.0010000000474974513, 0.5, 2.0], \"radius\": 0.07999999821186066, \"rgba\": [0.4000000059604645, 0.33000001311302185, 0.25999999046325684, 1.0], \"name\": \"Sphere\"}], \"aux_3\": [{\"link_idx\": 5, \"transform\": {\"pos\": [-0.10000000149011612, -0.10000000149011612, 0.0], \"rot\": [0.7071067690849304, -0.5, 0.5, 0.0], \"name\": \"Transform\"}, \"friction\": 1.0, \"elasticity\": 0.0, \"solver_params\": [0.019999999552965164, 1.0, 0.8999999761581421, 0.949999988079071, 0.0010000000474974513, 0.5, 2.0], \"radius\": 0.07999999821186066, \"length\": 0.2828427255153656, \"rgba\": [0.4000000059604645, 0.33000001311302185, 0.25999999046325684, 1.0], \"name\": \"Capsule\"}], \"link 6\": [{\"link_idx\": 6, \"transform\": {\"pos\": [-0.20000000298023224, -0.20000000298023224, 0.0], \"rot\": [0.7071067690849304, -0.5, 0.5, 0.0], \"name\": \"Transform\"}, \"friction\": 1.0, \"elasticity\": 0.0, \"solver_params\": [0.019999999552965164, 1.0, 0.8999999761581421, 0.949999988079071, 0.0010000000474974513, 0.5, 2.0], \"radius\": 0.07999999821186066, \"length\": 0.5656854510307312, \"rgba\": [0.4000000059604645, 0.33000001311302185, 0.25999999046325684, 1.0], \"name\": \"Capsule\"}, {\"link_idx\": 6, \"transform\": {\"pos\": [-0.4000000059604645, -0.4000000059604645, 0.0], \"rot\": [1.0, 0.0, 0.0, 0.0], \"name\": \"Transform\"}, \"friction\": 1.0, \"elasticity\": 0.0, \"solver_params\": [0.019999999552965164, 1.0, 0.8999999761581421, 0.949999988079071, 0.0010000000474974513, 0.5, 2.0], \"radius\": 0.07999999821186066, \"rgba\": [0.4000000059604645, 0.33000001311302185, 0.25999999046325684, 1.0], \"name\": \"Sphere\"}], \"aux_4\": [{\"link_idx\": 7, \"transform\": {\"pos\": [0.10000000149011612, -0.10000000149011612, 0.0], \"rot\": [0.7071067690849304, -0.5, -0.5, 0.0], \"name\": \"Transform\"}, \"friction\": 1.0, \"elasticity\": 0.0, \"solver_params\": [0.019999999552965164, 1.0, 0.8999999761581421, 0.949999988079071, 0.0010000000474974513, 0.5, 2.0], \"radius\": 0.07999999821186066, \"length\": 0.2828427255153656, \"rgba\": [0.4000000059604645, 0.33000001311302185, 0.25999999046325684, 1.0], \"name\": \"Capsule\"}], \"link 8\": [{\"link_idx\": 8, \"transform\": {\"pos\": [0.20000000298023224, -0.20000000298023224, 0.0], \"rot\": [0.7071067690849304, -0.5, -0.5, 0.0], \"name\": \"Transform\"}, \"friction\": 1.0, \"elasticity\": 0.0, \"solver_params\": [0.019999999552965164, 1.0, 0.8999999761581421, 0.949999988079071, 0.0010000000474974513, 0.5, 2.0], \"radius\": 0.07999999821186066, \"length\": 0.5656854510307312, \"rgba\": [0.4000000059604645, 0.33000001311302185, 0.25999999046325684, 1.0], \"name\": \"Capsule\"}, {\"link_idx\": 8, \"transform\": {\"pos\": [0.4000000059604645, -0.4000000059604645, 0.0], \"rot\": [1.0, 0.0, 0.0, 0.0], \"name\": \"Transform\"}, \"friction\": 1.0, \"elasticity\": 0.0, \"solver_params\": [0.019999999552965164, 1.0, 0.8999999761581421, 0.949999988079071, 0.0010000000474974513, 0.5, 2.0], \"radius\": 0.07999999821186066, \"rgba\": [0.4000000059604645, 0.33000001311302185, 0.25999999046325684, 1.0], \"name\": \"Sphere\"}]}, \"actuator\": {\"q_id\": [13, 14, 7, 8, 9, 10, 11, 12], \"qd_id\": [12, 13, 6, 7, 8, 9, 10, 11], \"ctrl_range\": [[-1.0, 1.0], [-1.0, 1.0], [-1.0, 1.0], [-1.0, 1.0], [-1.0, 1.0], [-1.0, 1.0], [-1.0, 1.0], [-1.0, 1.0]], \"force_range\": [[\"-inf\", \"inf\"], [\"-inf\", \"inf\"], [\"-inf\", \"inf\"], [\"-inf\", \"inf\"], [\"-inf\", \"inf\"], [\"-inf\", \"inf\"], [\"-inf\", \"inf\"], [\"-inf\", \"inf\"]], \"gain\": [1.0, 1.0, 1.0, 1.0, 1.0, 1.0, 1.0, 1.0], \"gear\": [200.0, 200.0, 200.0, 200.0, 200.0, 200.0, 200.0, 200.0], \"bias_q\": [0.0, 0.0, 0.0, 0.0, 0.0, 0.0, 0.0, 0.0], \"bias_qd\": [0.0, 0.0, 0.0, 0.0, 0.0, 0.0, 0.0, 0.0], \"name\": \"Actuator\"}, \"init_q\": [0.0, 0.0, 0.550000011920929, 1.0, 0.0, 0.0, 0.0, 0.0, 1.0, 0.0, -1.0, 0.0, -1.0, 0.0, 1.0], \"vel_damping\": 0.0, \"ang_damping\": 0.0, \"baumgarte_erp\": 0.10000000149011612, \"spring_mass_scale\": 1.0, \"spring_inertia_scale\": 1.0, \"joint_scale_ang\": 0.20000000298023224, \"joint_scale_pos\": 0.5, \"collide_scale\": 1.0, \"enable_fluid\": false, \"geom_masks\": [4294967296, 0, 0, 1], \"link_names\": [\"torso\", \"aux_1\", \"\", \"aux_2\", \"\", \"aux_3\", \"\", \"aux_4\", \"\"], \"link_types\": \"f11111111\", \"link_parents\": [-1, 0, 1, 0, 3, 0, 5, 0, 7], \"matrix_inv_iterations\": 10, \"solver_iterations\": 4, \"solver_maxls\": 15, \"name\": \"System\", \"states\": {\"x\": {\"pos\": [[[0.02803013287484646, -0.026197170838713646, 0.6366886496543884], [0.20735490322113037, 0.2337643802165985, 0.5838868618011475], [0.3817472457885742, 0.4970047175884247, 0.5308090448379517], [-0.2366880476474762, 0.1532818078994751, 0.6212934851646423], [-0.5022366642951965, 0.33155083656311035, 0.6061438322067261], [-0.15129464864730835, -0.2861587107181549, 0.6894904375076294], [-0.3253554701805115, -0.5496147871017456, 0.7425860166549683], [0.2927483022212982, -0.2056761384010315, 0.6520838141441345], [0.567772388458252, -0.36919528245925903, 0.6642754673957825]]], \"rot\": [[[0.9919908046722412, -0.07909940928220749, 0.034275852143764496, 0.09231771528720856], [0.9910935759544373, -0.07877867668867111, 0.03500673919916153, 0.1014983132481575], [0.8453352451324463, -0.42244359850883484, 0.318027138710022, 0.07621350884437561], [0.9917736649513245, -0.07901956140995026, 0.03445954620838165, 0.09462233632802963], [0.8739079236984253, -0.3533302843570709, -0.31133949756622314, 0.1204596608877182], [0.9910306930541992, -0.07875702530145645, 0.03505544364452362, 0.10211101919412613], [0.9112711548805237, 0.29614195227622986, -0.26635822653770447, 0.10458507388830185], [0.9887644648551941, -0.07803241908550262, 0.03664006292819977, 0.1221201941370964], [0.8927887678146362, 0.21072903275489807, 0.391666442155838, 0.07154760509729385]]], \"name\": \"Transform\"}, \"contact\": null}};\n",
              "  </script>\n",
              "\n",
              "  <body>\n",
              "\n",
              "    <div id=\"brax-viewer\"></div>\n",
              "\n",
              "    <script type=\"module\">\n",
              "      import {Viewer} from 'viewer';\n",
              "      const domElement = document.getElementById(\"brax-viewer\");\n",
              "      var viewer = new Viewer(domElement, system);\n",
              "    </script>\n",
              "\n",
              "  </body>\n",
              "\n",
              "</html>"
            ],
            "text/plain": [
              "<IPython.core.display.HTML object>"
            ]
          },
          "execution_count": 4,
          "metadata": {},
          "output_type": "execute_result"
        }
      ],
      "source": [
        "#@title Load Env { run: \"auto\" }\n",
        "\n",
        "env_name = 'ant'  # @param ['ant', 'halfcheetah', 'hopper', 'humanoid', 'humanoidstandup', 'inverted_pendulum', 'inverted_double_pendulum', 'pusher', 'reacher', 'walker2d']\n",
        "backend = 'positional'  # @param ['generalized', 'positional', 'spring']\n",
        "\n",
        "env = envs.get_environment(env_name=env_name,\n",
        "                           backend=backend)\n",
        "state = jax.jit(env.reset)(rng=jax.random.PRNGKey(seed=0))\n",
        "\n",
        "HTML(html.render(env.sys, [state.pipeline_state]))"
      ]
    },
    {
      "cell_type": "code",
      "execution_count": null,
      "metadata": {},
      "outputs": [],
      "source": [
        "import numpy as np\n",
        "import random\n",
        "\n",
        "# create an env with auto-reset\n",
        "env = envs.create(env_name=env_name, backend=backend)\n",
        "\n",
        "jit_env_reset = jax.jit(env.reset)\n",
        "jit_env_step = jax.jit(env.step)\n",
        "\n",
        "rollout = []\n",
        "rng = jax.random.PRNGKey(seed=1)\n",
        "state = jit_env_reset(rng=rng)\n",
        "for _ in range(1000):\n",
        "    rollout.append(state.pipeline_state)\n",
        "    i = random.uniform(-1.0, 1.0)\n",
        "    #action = jax.random.uniform(rng, (env.action_size,), minval=-1.0, maxval=1.0)\n",
        "    #action = np.array([-0.1, 1, 0, -0.5, 0.3, 0.5, 0.1, -0.9])\n",
        "    action = np.array([0, 0, 0, i, 0, 0, 0, 0])\n",
        "    \n",
        "\n",
        "    state = jit_env_step(state, action)\n",
        "\n",
        "HTML(html.render(env.sys.replace(dt=env.dt), rollout))\n"
      ]
    },
    {
      "cell_type": "code",
      "execution_count": null,
      "metadata": {},
      "outputs": [],
      "source": [
        "import pybullet as p\n",
        "import pybullet_data\n",
        "\n",
        "# URDF file path\n",
        "urdf_path = \"/Users/joaquinarias/Documents/Jobs/DFKI/PhysWM/brax/models/ur5.urdf\"\n",
        "\n",
        "# Initialize PyBullet simulation\n",
        "physicsClient = p.connect(p.GUI)\n",
        "p.setAdditionalSearchPath(pybullet_data.getDataPath())\n",
        "\n",
        "# Load URDF file\n",
        "urdf_flags = p.URDF_USE_INERTIA_FROM_FILE | p.URDF_USE_SELF_COLLISION\n",
        "robot_id = p.loadURDF(urdf_path, [0, 0, 0], flags=urdf_flags)\n",
        "\n",
        "# Set up simulation parameters\n",
        "p.setGravity(0, 0, 0)\n",
        "p.setTimeStep(1.0 / 240)\n",
        "\n",
        "# Run simulation\n",
        "while p.isConnected():\n",
        "    p.stepSimulation()\n",
        "\n",
        "# Disconnect from the simulation\n",
        "p.disconnect()\n"
      ]
    },
    {
      "attachments": {},
      "cell_type": "markdown",
      "metadata": {
        "id": "GMailSDb30t-"
      },
      "source": [
        "# Training\n",
        "\n",
        "Brax provides out of the box the following training algorithms:\n",
        "\n",
        "* [Proximal policy optimization](https://github.com/google/brax/blob/main/brax/training/agents/ppo/train.py)\n",
        "* [Soft actor-critic](https://github.com/google/brax/blob/main/brax/training/agents/sac/train.py)\n",
        "* [Evolutionary strategy](https://github.com/google/brax/blob/main/brax/training/agents/es/train.py)\n",
        "* [Analytic policy gradients](https://github.com/google/brax/blob/main/brax/training/agents/apg/train.py)\n",
        "* [Augmented random search](https://github.com/google/brax/blob/main/brax/training/agents/ars/train.py)\n",
        "\n",
        "Trainers take as input an environment function and some hyperparameters, and return an inference function to operate the environment."
      ]
    },
    {
      "attachments": {},
      "cell_type": "markdown",
      "metadata": {
        "id": "y3MA1UYlftuq"
      },
      "source": [
        "# Training\n",
        "\n",
        "Let's train the Ant policy using the `generalized` backend with PPO."
      ]
    },
    {
      "cell_type": "code",
      "execution_count": null,
      "metadata": {
        "colab": {
          "height": 321
        },
        "executionInfo": {
          "elapsed": 190263,
          "status": "ok",
          "timestamp": 1671658344336,
          "user": {
            "displayName": "",
            "userId": ""
          },
          "user_tz": 300
        },
        "id": "FB6G2_Yt4A2m",
        "outputId": "402a0a43-3525-4eca-a425-ffcc71e8db0f"
      },
      "outputs": [],
      "source": [
        "#@title Training\n",
        "\n",
        "# We determined some reasonable hyperparameters offline and share them here.\n",
        "train_fn = {\n",
        "  'inverted_pendulum': functools.partial(ppo.train, num_timesteps=2_000_000, num_evals=20, reward_scaling=10, episode_length=1000, normalize_observations=True, action_repeat=1, unroll_length=5, num_minibatches=32, num_updates_per_batch=4, discounting=0.97, learning_rate=3e-4, entropy_cost=1e-2, num_envs=2048, batch_size=1024, seed=1),\n",
        "  'inverted_double_pendulum': functools.partial(ppo.train, num_timesteps=20_000_000, num_evals=20, reward_scaling=10, episode_length=1000, normalize_observations=True, action_repeat=1, unroll_length=5, num_minibatches=32, num_updates_per_batch=4, discounting=0.97, learning_rate=3e-4, entropy_cost=1e-2, num_envs=2048, batch_size=1024, seed=1),\n",
        "  'ant': functools.partial(ppo.train,  num_timesteps=50_000_000, num_evals=10, reward_scaling=10, episode_length=1000, normalize_observations=True, action_repeat=1, unroll_length=5, num_minibatches=32, num_updates_per_batch=4, discounting=0.97, learning_rate=3e-4, entropy_cost=1e-2, num_envs=4096, batch_size=2048, seed=1),\n",
        "  'humanoid': functools.partial(ppo.train,  num_timesteps=50_000_000, num_evals=10, reward_scaling=0.1, episode_length=1000, normalize_observations=True, action_repeat=1, unroll_length=10, num_minibatches=32, num_updates_per_batch=8, discounting=0.97, learning_rate=3e-4, entropy_cost=1e-3, num_envs=2048, batch_size=1024, seed=1),\n",
        "  'reacher': functools.partial(ppo.train, num_timesteps=50_000_000, num_evals=20, reward_scaling=5, episode_length=1000, normalize_observations=True, action_repeat=4, unroll_length=50, num_minibatches=32, num_updates_per_batch=8, discounting=0.95, learning_rate=3e-4, entropy_cost=1e-3, num_envs=2048, batch_size=256, max_devices_per_host=8, seed=1),\n",
        "  'humanoidstandup': functools.partial(ppo.train, num_timesteps=100_000_000, num_evals=20, reward_scaling=0.1, episode_length=1000, normalize_observations=True, action_repeat=1, unroll_length=15, num_minibatches=32, num_updates_per_batch=8, discounting=0.97, learning_rate=6e-4, entropy_cost=1e-2, num_envs=2048, batch_size=1024, seed=1),\n",
        "  'hopper': functools.partial(sac.train, num_timesteps=6_553_600, num_evals=20, reward_scaling=30, episode_length=1000, normalize_observations=True, action_repeat=1, discounting=0.997, learning_rate=6e-4, num_envs=128, batch_size=512, grad_updates_per_step=64, max_devices_per_host=1, max_replay_size=1048576, min_replay_size=8192, seed=1),\n",
        "  'walker2d': functools.partial(sac.train, num_timesteps=7_864_320, num_evals=20, reward_scaling=5, episode_length=1000, normalize_observations=True, action_repeat=1, discounting=0.997, learning_rate=6e-4, num_envs=128, batch_size=128, grad_updates_per_step=32, max_devices_per_host=1, max_replay_size=1048576, min_replay_size=8192, seed=1),\n",
        "  'halfcheetah': functools.partial(ppo.train, num_timesteps=50_000_000, num_evals=20, reward_scaling=1, episode_length=1000, normalize_observations=True, action_repeat=1, unroll_length=20, num_minibatches=32, num_updates_per_batch=8, discounting=0.95, learning_rate=3e-4, entropy_cost=0.001, num_envs=2048, batch_size=512, seed=3),\n",
        "  'pusher': functools.partial(ppo.train, num_timesteps=50_000_000, num_evals=20, reward_scaling=5, episode_length=1000, normalize_observations=True, action_repeat=1, unroll_length=30, num_minibatches=16, num_updates_per_batch=8, discounting=0.95, learning_rate=3e-4,entropy_cost=1e-2, num_envs=2048, batch_size=512, seed=3),\n",
        "  'ur5': functools.partial(ppo.train, num_timesteps=50_000_000, num_evals=20, reward_scaling=5, episode_length=1000, normalize_observations=True, action_repeat=1, unroll_length=30, num_minibatches=16, num_updates_per_batch=8, discounting=0.95, learning_rate=3e-4,entropy_cost=1e-2, num_envs=2048, batch_size=512, seed=3),\n",
        "\n",
        "}[env_name]\n",
        "\n",
        "\n",
        "max_y = {'ant': 8000, 'halfcheetah': 8000, 'hopper': 2500, 'humanoid': 13000, 'humanoidstandup': 75_000, 'reacher': 5, 'walker2d': 5000, 'pusher': 0}[env_name]\n",
        "min_y = {'reacher': -100, 'pusher': -150}.get(env_name, 0)\n",
        "\n",
        "xdata, ydata = [], []\n",
        "times = [datetime.now()]\n",
        "\n",
        "def progress(num_steps, metrics):\n",
        "  times.append(datetime.now())\n",
        "  xdata.append(num_steps)\n",
        "  ydata.append(metrics['eval/episode_reward'])\n",
        "  clear_output(wait=True)\n",
        "  plt.xlim([0, train_fn.keywords['num_timesteps']])\n",
        "  plt.ylim([min_y, max_y])\n",
        "  plt.xlabel('# environment steps')\n",
        "  plt.ylabel('reward per episode')\n",
        "  plt.plot(xdata, ydata)\n",
        "  plt.show()\n",
        "\n",
        "make_inference_fn, params, _ = train_fn(environment=env, progress_fn=progress)\n",
        "\n",
        "print(f'time to jit: {times[1] - times[0]}')\n",
        "print(f'time to train: {times[-1] - times[1]}')"
      ]
    },
    {
      "attachments": {},
      "cell_type": "markdown",
      "metadata": {
        "id": "bjlh7puy2ZM1"
      },
      "source": [
        "The trainers return an inference function, parameters, and the final set of metrics gathered during evaluation.\n",
        "\n",
        "# Saving and Loading Policies\n",
        "\n",
        "Brax can save and load trained policies:"
      ]
    },
    {
      "cell_type": "code",
      "execution_count": null,
      "metadata": {
        "id": "gOWeDqlP35sI"
      },
      "outputs": [],
      "source": [
        "model.save_params('/tmp/params', params)\n",
        "params = model.load_params('/tmp/params')\n",
        "inference_fn = make_inference_fn(params)"
      ]
    },
    {
      "attachments": {},
      "cell_type": "markdown",
      "metadata": {
        "id": "4YlZvIG320sK"
      },
      "source": [
        "The trainers return an inference function, parameters, and the final set of metrics gathered during evaluation.\n",
        "\n",
        "# Saving and Loading Policies\n",
        "\n",
        "Brax can save and load trained policies:"
      ]
    },
    {
      "cell_type": "code",
      "execution_count": null,
      "metadata": {
        "colab": {
          "height": 480
        },
        "executionInfo": {
          "elapsed": 33520,
          "status": "ok",
          "timestamp": 1679346718844,
          "user": {
            "displayName": "",
            "userId": ""
          },
          "user_tz": 240
        },
        "id": "kF5fS-yo35sI",
        "outputId": "94d1a7d5-8d6e-456c-8cfd-94a689b8808f"
      },
      "outputs": [],
      "source": [
        "#@title Visualizing a trajectory of the learned inference function\n",
        "\n",
        "# create an env with auto-reset\n",
        "env = envs.create(env_name=env_name, backend=backend)\n",
        "\n",
        "jit_env_reset = jax.jit(env.reset)\n",
        "jit_env_step = jax.jit(env.step)\n",
        "jit_inference_fn = jax.jit(inference_fn)\n",
        "\n",
        "rollout = []\n",
        "rng = jax.random.PRNGKey(seed=1)\n",
        "state = jit_env_reset(rng=rng)\n",
        "for _ in range(1000):\n",
        "  rollout.append(state.pipeline_state)\n",
        "  act_rng, rng = jax.random.split(rng)\n",
        "  act, _ = jit_inference_fn(state.obs, act_rng)\n",
        "  state = jit_env_step(state, act)\n",
        "\n",
        "HTML(html.render(env.sys.replace(dt=env.dt), rollout))"
      ]
    },
    {
      "attachments": {},
      "cell_type": "markdown",
      "metadata": {
        "id": "CBtrAqns35sI"
      },
      "source": [
        "🙌 See you soon!"
      ]
    }
  ],
  "metadata": {
    "colab": {
      "last_runtime": {
        "build_target": "//third_party/py/brax:ml_notebook",
        "kind": "private"
      },
      "provenance": [
        {
          "file_id": "1zbAZ1MmrFjqJ5bMxKJPnVFwbmH-vUE39",
          "timestamp": 1671659877644
        },
        {
          "file_id": "1Xukhuptrd3pRQoW6hlS0V-KL-mzjuvQf",
          "timestamp": 1671643457623
        },
        {
          "file_id": "1HY3KesfORAEmLitUh2F4fe6Q9FOLLWUd",
          "timestamp": 1671568369656
        }
      ],
      "toc_visible": true
    },
    "kernelspec": {
      "display_name": "Python 3",
      "name": "python3"
    },
    "language_info": {
      "codemirror_mode": {
        "name": "ipython",
        "version": 3
      },
      "file_extension": ".py",
      "mimetype": "text/x-python",
      "name": "python",
      "nbconvert_exporter": "python",
      "pygments_lexer": "ipython3",
      "version": "3.9.6"
    }
  },
  "nbformat": 4,
  "nbformat_minor": 0
}
